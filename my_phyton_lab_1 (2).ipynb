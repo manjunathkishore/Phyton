{
  "nbformat": 4,
  "nbformat_minor": 0,
  "metadata": {
    "colab": {
      "provenance": []
    },
    "kernelspec": {
      "name": "python3",
      "display_name": "Python 3"
    },
    "language_info": {
      "name": "python"
    }
  },
  "cells": [
    {
      "cell_type": "code",
      "source": [
        "# Function with proper indentation\n",
        "def check_even(number):\n",
        "    if number % 2 == 0:  # Indented inside function\n",
        "        print(\"Even number\")  # Indented inside if condition\n",
        "    else:\n",
        "        print(\"Odd number\")  # Indented inside else block\n",
        "\n",
        "# Calling the function\n",
        "check_even(10)\n",
        "check_even(7)\n"
      ],
      "metadata": {
        "id": "8bbytVNdwwoR"
      },
      "execution_count": null,
      "outputs": []
    }
  ]
}